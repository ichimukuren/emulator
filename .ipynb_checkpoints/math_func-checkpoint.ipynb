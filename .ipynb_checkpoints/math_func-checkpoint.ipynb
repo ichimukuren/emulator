{
 "cells": [
  {
   "cell_type": "code",
   "execution_count": 1,
   "metadata": {},
   "outputs": [],
   "source": [
    "import math\n",
    "\n",
    "\n",
    "def get_catch_point(x0,l0,y0,u,v):\n",
    "\n",
    "    a=(l0-x0)*v\n",
    "    b=v*y0\n",
    "    c=u*y0\n",
    "    sqr=math.sqrt(a**2+b**2)\n",
    "    fi=math.asin(a/sqr)\n",
    "    alfa=math.acos(c/sqr)+fi\n",
    "    \n",
    "#     x = y0/(math.tan(alfa))+l0\n",
    "    \n",
    "    t=y0/(v*math.sin(alfa))\n",
    "    xobj=x0+u*t\n",
    "    yobj=y0\n",
    "    xrob=(l0+v*math.cos(alfa)*t)\n",
    "    yrob=v*math.sin(alfa)*t\n",
    "    y=(xrob-l0)*math.tan(alfa)\n",
    "    \n",
    "    if xrob<400:\n",
    "        xrob = 400\n",
    "    return (int(xrob),int(y0))\n",
    "  \n",
    "        \n"
   ]
  },
  {
   "cell_type": "code",
   "execution_count": null,
   "metadata": {},
   "outputs": [],
   "source": []
  },
  {
   "cell_type": "code",
   "execution_count": null,
   "metadata": {},
   "outputs": [],
   "source": []
  }
 ],
 "metadata": {
  "kernelspec": {
   "display_name": "Python 3",
   "language": "python",
   "name": "python3"
  },
  "language_info": {
   "codemirror_mode": {
    "name": "ipython",
    "version": 3
   },
   "file_extension": ".py",
   "mimetype": "text/x-python",
   "name": "python",
   "nbconvert_exporter": "python",
   "pygments_lexer": "ipython3",
   "version": "3.7.3"
  }
 },
 "nbformat": 4,
 "nbformat_minor": 2
}
